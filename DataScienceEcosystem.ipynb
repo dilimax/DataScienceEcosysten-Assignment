{
 "cells": [
  {
   "cell_type": "markdown",
   "id": "689a7ff1",
   "metadata": {},
   "source": [
    "# Data Science Tools and Ecosystem"
   ]
  },
  {
   "cell_type": "markdown",
   "id": "a78e75b9",
   "metadata": {},
   "source": [
    "### In this notebook, Data Science Tools and Ecosystem are summarized.\n",
    "\n",
    "***Objectives:***\n",
    "\n",
    "+ Jupyter Notebook supports different languages\n",
    "+ Jupyter Notebooks are used in Data Science for recording experiments and projects\n",
    "+ Jupyter Notebook allows a Data Scientist to record their data experiments and results that others can reuse"
   ]
  },
  {
   "cell_type": "markdown",
   "id": "09f18185",
   "metadata": {},
   "source": [
    "#### Some of the commonly used libraries used by Data Scientists include:"
   ]
  },
  {
   "cell_type": "markdown",
   "id": "c488ec0f",
   "metadata": {},
   "source": [
    "1. Scikit-learn\n",
    "2. PyTorch\n",
    "3. TenserFlow\n",
    "4. NumPy"
   ]
  },
  {
   "cell_type": "markdown",
   "id": "729586ab",
   "metadata": {},
   "source": [
    "#### Some of the commonly used libraries used by Data Scientists include:"
   ]
  },
  {
   "cell_type": "markdown",
   "id": "2e5d96f5",
   "metadata": {},
   "source": [
    "1. TenserFlow\n",
    "2. SciPy\n",
    "3. Pandas\n",
    "4. Scrapy\n",
    "5. Matplotlib"
   ]
  },
  {
   "cell_type": "markdown",
   "id": "4320c53f",
   "metadata": {},
   "source": [
    "\n",
    " \n",
    " \n",
    " \n",
    " | Data Science Tools |\n",
    " | ------------- |\n",
    " | Rstudio |\n",
    " | Zeppelin Notebook |\n",
    " | Jupyter Notebook |\n",
    " \n"
   ]
  },
  {
   "cell_type": "markdown",
   "id": "1b22deb7",
   "metadata": {},
   "source": [
    "### Below are a few examples of evaluating arithmetic expressions in Python"
   ]
  },
  {
   "cell_type": "code",
   "execution_count": 2,
   "id": "def30928",
   "metadata": {},
   "outputs": [
    {
     "data": {
      "text/plain": [
       "17"
      ]
     },
     "execution_count": 2,
     "metadata": {},
     "output_type": "execute_result"
    }
   ],
   "source": [
    "# This a simple arithmetic expression to mutiply then add integers\n",
    "\n",
    "(3*4)+5"
   ]
  },
  {
   "cell_type": "code",
   "execution_count": 22,
   "id": "5c9dc4e7",
   "metadata": {},
   "outputs": [
    {
     "name": "stdout",
     "output_type": "stream",
     "text": [
      "3.3333333333333335\n"
     ]
    }
   ],
   "source": [
    "# This will convert 200 minutes to hours by diving by 60\n",
    "\n",
    "x= 200\n",
    "y = 60\n",
    "z= x/y\n",
    "print(z)"
   ]
  },
  {
   "cell_type": "markdown",
   "id": "165fe34a",
   "metadata": {},
   "source": [
    "## Author\n",
    "\n",
    "***Chinedu Nkemdilim***"
   ]
  },
  {
   "cell_type": "code",
   "execution_count": null,
   "id": "a4686cbd",
   "metadata": {},
   "outputs": [],
   "source": [
    "\n"
   ]
  },
  {
   "cell_type": "code",
   "execution_count": null,
   "id": "a295122d",
   "metadata": {},
   "outputs": [],
   "source": []
  }
 ],
 "metadata": {
  "kernelspec": {
   "display_name": "Python 3 (ipykernel)",
   "language": "python",
   "name": "python3"
  },
  "language_info": {
   "codemirror_mode": {
    "name": "ipython",
    "version": 3
   },
   "file_extension": ".py",
   "mimetype": "text/x-python",
   "name": "python",
   "nbconvert_exporter": "python",
   "pygments_lexer": "ipython3",
   "version": "3.10.9"
  }
 },
 "nbformat": 4,
 "nbformat_minor": 5
}
